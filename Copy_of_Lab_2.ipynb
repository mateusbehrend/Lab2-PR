{
  "nbformat": 4,
  "nbformat_minor": 0,
  "metadata": {
    "colab": {
      "provenance": [],
      "include_colab_link": true
    },
    "kernelspec": {
      "name": "python3",
      "display_name": "Python 3"
    },
    "language_info": {
      "name": "python"
    }
  },
  "cells": [
    {
      "cell_type": "markdown",
      "metadata": {
        "id": "view-in-github",
        "colab_type": "text"
      },
      "source": [
        "<a href=\"https://colab.research.google.com/github/mateusbehrend/Lab2-PR/blob/master/Copy_of_Lab_2.ipynb\" target=\"_parent\"><img src=\"https://colab.research.google.com/assets/colab-badge.svg\" alt=\"Open In Colab\"/></a>"
      ]
    },
    {
      "cell_type": "markdown",
      "source": [
        "# Lab 2\n",
        "\n",
        "In Lab 2, we will be coding Linear and Logistic regression using only Numpy! You will also be asked to use what you know about gradient descent to tweak the algorithms for better results. While teams should collaborate and help each other, each member of a group should complete their own code.\n",
        "\n",
        "This skeleton is intended to be somewhat sparse in order to give you the opportunity to become familiar with the intuition behind gradient descent and to make you very familiar with Numpy. Please reach out to us for any conceptual/mathematical questions or if you are stuck on something and need a hint - we don't want you spending hours on this!\n",
        "\n",
        "If you are unfamiliar with Numpy, don't worry! There are a ton of great resources on it and the its documentation is very well-written (*cough cough* OpenCV). You can figure our how to do most things with a simple Google Search, but here are some functions, operators, etc. that I found useful in this lab:\n",
        "\n",
        "    .dot() and @, .astype(), .T, unique(), mean(), sum(), inv(), pinv(), reshape(), vstack(), hstack(), .unique(), .concatenate(), .shape(), .any()"
      ],
      "metadata": {
        "id": "muqqV8jeVL_L"
      }
    },
    {
      "cell_type": "markdown",
      "source": [
        "### Some notes on using Colab\n",
        "\n",
        "If you've never used Colab before, this section is for you! Some things to note:\n",
        "\n",
        "* The different boxes in this document are segments of Python code. Many of them contain errors and won't work if you try to run them right away (using the play button on the left). You need to fill in the blanks to make them work!\n",
        "\n",
        "* If you update a block of code, even if you re-run it, you must also re-run all the blocks after it up to the point where you're currently working. They don't run themselves!"
      ],
      "metadata": {
        "id": "SjbC5heN7gvc"
      }
    },
    {
      "cell_type": "code",
      "execution_count": 2,
      "metadata": {
        "id": "L5fLK6aADdbb"
      },
      "outputs": [],
      "source": [
        "import numpy as np\n",
        "import csv\n",
        "from numpy.core.memmap import dtype\n",
        "import matplotlib.pyplot as plt\n",
        "\n",
        "# You may use these sklearn tools in your implementation, but no others.\n",
        "from sklearn.model_selection import train_test_split\n",
        "from sklearn.utils import shuffle"
      ]
    },
    {
      "cell_type": "code",
      "source": [
        "from google.colab import drive\n",
        "drive.mount('/content/drive/')"
      ],
      "metadata": {
        "colab": {
          "base_uri": "https://localhost:8080/"
        },
        "id": "Y_su9yqzaRUT",
        "outputId": "38155966-8562-4734-ee76-d55fecbda066"
      },
      "execution_count": 3,
      "outputs": [
        {
          "output_type": "stream",
          "name": "stdout",
          "text": [
            "Mounted at /content/drive/\n"
          ]
        }
      ]
    },
    {
      "cell_type": "code",
      "source": [
        "WEATHER_PATH = '/content/drive/MyDrive/weatherHistory.csv'\n",
        "data = np.loadtxt(WEATHER_PATH, delimiter=\",\", dtype=str)\n",
        "data = data[:,1:-1]\n",
        "header = data[0]\n",
        "data = data[1:]\n",
        "data"
      ],
      "metadata": {
        "id": "gzfbZfiOd-QD",
        "colab": {
          "base_uri": "https://localhost:8080/"
        },
        "outputId": "16356070-4e94-454c-f426-ca6b25fab27a"
      },
      "execution_count": 4,
      "outputs": [
        {
          "output_type": "execute_result",
          "data": {
            "text/plain": [
              "array([['Partly Cloudy', 'rain', '9.472222222222221', ...,\n",
              "        '15.826300000000002', '0.0', '1015.13'],\n",
              "       ['Partly Cloudy', 'rain', '9.355555555555558', ...,\n",
              "        '15.826300000000002', '0.0', '1015.63'],\n",
              "       ['Mostly Cloudy', 'rain', '9.377777777777778', ..., '14.9569',\n",
              "        '0.0', '1015.94'],\n",
              "       ...,\n",
              "       ['Partly Cloudy', 'rain', '22.03888888888889', ..., '16.1', '0.0',\n",
              "        '1015.66'],\n",
              "       ['Partly Cloudy', 'rain', '21.522222222222222', ..., '16.1',\n",
              "        '0.0', '1015.95'],\n",
              "       ['Partly Cloudy', 'rain', '20.438888888888894', ...,\n",
              "        '15.520400000000002', '0.0', '1016.16']], dtype='<U125')"
            ]
          },
          "metadata": {},
          "execution_count": 4
        }
      ]
    },
    {
      "cell_type": "markdown",
      "source": [
        "##Part 1: Single line fit!\n",
        "\n",
        "In this part of the lab, you will be using only the humidity data to estimate the temperature using linear regression. Then we well compare the results of a single feature linear regression with the closed form solution. Experiment with the learning rate and number of iterations and try to find the optimal learning rate for 40 iterations (we got it to 59.5)."
      ],
      "metadata": {
        "id": "6ednkRXhJw-C"
      }
    },
    {
      "cell_type": "code",
      "source": [
        "# Right now, the data is in one large matrix. Seperate out x as the humidity\n",
        "# and y as the temperature.\n",
        "\n",
        "x = data[:,4]\n",
        "y = data[:,2]\n",
        "x = x.astype('float')\n",
        "y = y.astype('float')\n",
        "print(x)\n",
        "print(y)"
      ],
      "metadata": {
        "id": "BMM6lhCgcX6C",
        "colab": {
          "base_uri": "https://localhost:8080/"
        },
        "outputId": "6b8c311b-76b4-4d1e-cdb5-29125e1ebc06"
      },
      "execution_count": 5,
      "outputs": [
        {
          "output_type": "stream",
          "name": "stdout",
          "text": [
            "[0.89 0.86 0.89 ... 0.56 0.6  0.61]\n",
            "[ 9.47222222  9.35555556  9.37777778 ... 22.03888889 21.52222222\n",
            " 20.43888889]\n"
          ]
        }
      ]
    },
    {
      "cell_type": "code",
      "source": [
        "# Code the mean squared error function given x, y, a, and b.\n",
        "def MSE(x, y, a, b):\n",
        "  y_pred = a * x + b\n",
        "  y_squared = (y- y_pred) ** 2\n",
        "  mse = np.mean(y_squared)\n",
        "  return mse\n",
        "\n",
        "# Code the gradient descent function. This will return the new values of a and b\n",
        "# after the gradient has been calculated and the learning rate has been applied.\n",
        "def grad_des(x, y, a, b):\n",
        "  a_delta = np.mean(-2*y*x + 2*a*(x**2)+2*x*b)\n",
        "  b_delta = np.mean(-2*y + 2*a*x +2*b)\n",
        "  return a_delta, b_delta\n",
        ""
      ],
      "metadata": {
        "id": "jloJFPgkcYhA"
      },
      "execution_count": 6,
      "outputs": []
    },
    {
      "cell_type": "code",
      "source": [
        "# Initialize a and b.\n",
        "a = 0\n",
        "b = 0\n",
        "lr = 0.611\n",
        "\n",
        "losses = []\n",
        "for i in range(40):\n",
        "  losses.append(MSE(x, y, a, b))\n",
        "  # Update a and b using the values from your gradient descent function.\n",
        "  a_change, b_change = grad_des(x, y, a, b)\n",
        "  a  = a - lr * a_change\n",
        "  b = b -lr * b_change\n",
        "\n",
        "print(f\"Final Training Loss: {losses[-1]}\")\n",
        "plt.plot(losses)\n",
        "plt.title(\"single feature loss over time\")"
      ],
      "metadata": {
        "id": "g5aW2pfhcvCB",
        "colab": {
          "base_uri": "https://localhost:8080/",
          "height": 488
        },
        "outputId": "82c00716-3425-4ec0-e9a2-0653eb9c12a2"
      },
      "execution_count": 7,
      "outputs": [
        {
          "output_type": "stream",
          "name": "stdout",
          "text": [
            "Final Training Loss: 59.50805538305633\n"
          ]
        },
        {
          "output_type": "execute_result",
          "data": {
            "text/plain": [
              "Text(0.5, 1.0, 'single feature loss over time')"
            ]
          },
          "metadata": {},
          "execution_count": 7
        },
        {
          "output_type": "display_data",
          "data": {
            "text/plain": [
              "<Figure size 640x480 with 1 Axes>"
            ],
            "image/png": "[encoded data removed]"
          },
          "metadata": {}
        }
      ]
    },
    {
      "cell_type": "markdown",
      "source": [
        "This is your **loss graph**. Hang onto it, because you'll need it later for the checkoff.\n",
        "\n",
        "In addition, remember what we taught you guys about how your training should improve the loss: it should decay towards a minimum as the gradient descent iterations continue. Pay attention to the y-axis here, which indicates the loss. If your error blows up towards infinity or doesn't decrease very quickly, you should be able to recognize and rectify the issue with your hyperparameters!"
      ],
      "metadata": {
        "id": "2MNDAPUytKMz"
      }
    },
    {
      "cell_type": "code",
      "source": [
        "# Let's take a look at what our line of best fit looks like!\n",
        "plt.scatter(x, y)\n",
        "plt.plot(x, a*x+b, color='orange')"
      ],
      "metadata": {
        "id": "fQkqljmFOhU-",
        "colab": {
          "base_uri": "https://localhost:8080/",
          "height": 448
        },
        "outputId": "c8569c4b-5a7a-46ee-be56-985348dbec63"
      },
      "execution_count": 8,
      "outputs": [
        {
          "output_type": "execute_result",
          "data": {
            "text/plain": [
              "[<matplotlib.lines.Line2D at 0x7f4886fd9b70>]"
            ]
          },
          "metadata": {},
          "execution_count": 8
        },
        {
          "output_type": "display_data",
          "data": {
            "text/plain": [
              "<Figure size 640x480 with 1 Axes>"
            ],
            "image/png": "[encoded data removed]"
          },
          "metadata": {}
        }
      ]
    },
    {
      "cell_type": "code",
      "source": [
        "# Now let's find the true optimal solution using the closed form equation. Use\n",
        "# np.polyfit or other such functions only to check your work.\n",
        "# Don't forget what you need to add to the X matrix in order for the closed form\n",
        "# to work!\n",
        "\n",
        "X = np.zeros((len(x), 2))\n",
        "X[:, 1] = 1\n",
        "X[:, 0] = x\n",
        "# print(X)\n",
        "# print(\"Shape of X:\", X.shape)\n",
        "\n",
        "Y = y.reshape(-1, 1)\n",
        "# print(\"Target vector Y:\")\n",
        "# print(Y)\n",
        "# print(\"Shape of Y:\", Y.shape)\n",
        "\n",
        "th = np.linalg.inv(X.T @ X) @ X.T @ Y\n",
        "# print(th)\n",
        "\n",
        "\n",
        "a1, b1 = th\n",
        "\n",
        "print(a1)\n",
        "print(b1)"
      ],
      "metadata": {
        "id": "pxGDtLifABtp",
        "colab": {
          "base_uri": "https://localhost:8080/"
        },
        "outputId": "0d518f6b-b688-49bc-dad6-8340a809db05"
      },
      "execution_count": 11,
      "outputs": [
        {
          "output_type": "stream",
          "name": "stdout",
          "text": [
            "[-30.89438376]\n",
            "[34.63692913]\n"
          ]
        }
      ]
    },
    {
      "cell_type": "code",
      "source": [
        "# Compare our closed form with our gradient descent. The closed form solution\n",
        "# should be the same thing as the result of polyfit.\n",
        "\n",
        "a2, b2 = np.polyfit(x, y, 1)\n",
        "print(f\"Grad Desc:   a: {a} b: {b} MSE: {MSE(x, y, a, b)}\")\n",
        "print(f\"Closed form: a: {a1} b: {b1} MSE: {MSE(x, y, a1, b1)}\")\n",
        "print(f\"Poly Fit:    a: {a2} b: {b2}\")\n",
        "\n",
        "plt.scatter(x, y)\n",
        "plt.plot(x, a*x+b, color='orange')\n",
        "plt.plot(x, a1*x+b1, color='yellow')\n",
        "plt.title(\"closed and gd best fit lines\")"
      ],
      "metadata": {
        "id": "3CPIwSJGPeuL",
        "colab": {
          "base_uri": "https://localhost:8080/",
          "height": 523
        },
        "outputId": "83c846fd-bc14-4bda-aab8-3bcf4699756a"
      },
      "execution_count": 12,
      "outputs": [
        {
          "output_type": "stream",
          "name": "stdout",
          "text": [
            "Grad Desc:   a: -20.242910909005875 b: 26.453946045644404 MSE: 59.22299706661763\n",
            "Closed form: a: [-30.89438376] b: [34.63692913] MSE: 54.761829807719856\n",
            "Poly Fit:    a: -30.894383758051426 b: 34.63692912688962\n"
          ]
        },
        {
          "output_type": "execute_result",
          "data": {
            "text/plain": [
              "Text(0.5, 1.0, 'closed and gd best fit lines')"
            ]
          },
          "metadata": {},
          "execution_count": 12
        },
        {
          "output_type": "display_data",
          "data": {
            "text/plain": [
              "<Figure size 640x480 with 1 Axes>"
            ],
            "image/png": "[encoded data removed]"
          },
          "metadata": {}
        }
      ]
    },
    {
      "cell_type": "markdown",
      "source": [
        "To get checked off for this part, submit screenshots of the following in the submission form:\n",
        "- loss graph\n",
        "- the graph with your 2 best fit lines\n",
        "- the final MSE for your gradient descent and closed form solutions\n",
        "- your grad_des function"
      ],
      "metadata": {
        "id": "DRQny2AxyYno"
      }
    },
    {
      "cell_type": "markdown",
      "source": [
        "##Part 2: Multiple input features\n",
        "\n",
        "In this part we will modify our gradient descent function to accept all of the possible input features. This will require converting the precipitation type and weather summaries to one-hot encodings (see slides 20-25 and 33). Then we will have to change our equations to be in matrix notation."
      ],
      "metadata": {
        "id": "7epkPYWlQ4nZ"
      }
    },
    {
      "cell_type": "code",
      "source": [
        "# First, lets get our x and y data one-hot encoded.\n",
        "# hot_X should be the data where the categorical fields are converted into\n",
        "#     one-hot encodings (temperature data excluded).\n",
        "# As a sanity check, the dimensions should be (96453, 38).\n",
        "# hot_y should still just be the temperature data.\n",
        "print(data.shape)\n",
        "hot_X = hot_X.astype(float)\n",
        "hot_y = hot_y.astype(float)"
      ],
      "metadata": {
        "id": "xf5Xh3bTDyt7",
        "colab": {
          "base_uri": "https://localhost:8080/",
          "height": 216
        },
        "outputId": "60ebdf29-97ef-47c8-a05b-a19e7e4b0594"
      },
      "execution_count": 17,
      "outputs": [
        {
          "output_type": "stream",
          "name": "stdout",
          "text": [
            "(96453, 10)\n"
          ]
        },
        {
          "output_type": "error",
          "ename": "NameError",
          "evalue": "name 'hot_X' is not defined",
          "traceback": [
            "\u001b[0;31m---------------------------------------------------------------------------\u001b[0m",
            "\u001b[0;31mNameError\u001b[0m                                 Traceback (most recent call last)",
            "\u001b[0;32m<ipython-input-17-02d12b57e989>\u001b[0m in \u001b[0;36m<cell line: 7>\u001b[0;34m()\u001b[0m\n\u001b[1;32m      5\u001b[0m \u001b[0;31m# hot_y should still just be the temperature data.\u001b[0m\u001b[0;34m\u001b[0m\u001b[0;34m\u001b[0m\u001b[0m\n\u001b[1;32m      6\u001b[0m \u001b[0mprint\u001b[0m\u001b[0;34m(\u001b[0m\u001b[0mdata\u001b[0m\u001b[0;34m.\u001b[0m\u001b[0mshape\u001b[0m\u001b[0;34m)\u001b[0m\u001b[0;34m\u001b[0m\u001b[0;34m\u001b[0m\u001b[0m\n\u001b[0;32m----> 7\u001b[0;31m \u001b[0mhot_X\u001b[0m \u001b[0;34m=\u001b[0m \u001b[0mhot_X\u001b[0m\u001b[0;34m.\u001b[0m\u001b[0mastype\u001b[0m\u001b[0;34m(\u001b[0m\u001b[0mfloat\u001b[0m\u001b[0;34m)\u001b[0m\u001b[0;34m\u001b[0m\u001b[0;34m\u001b[0m\u001b[0m\n\u001b[0m\u001b[1;32m      8\u001b[0m \u001b[0mhot_y\u001b[0m \u001b[0;34m=\u001b[0m \u001b[0mhot_y\u001b[0m\u001b[0;34m.\u001b[0m\u001b[0mastype\u001b[0m\u001b[0;34m(\u001b[0m\u001b[0mfloat\u001b[0m\u001b[0;34m)\u001b[0m\u001b[0;34m\u001b[0m\u001b[0;34m\u001b[0m\u001b[0m\n",
            "\u001b[0;31mNameError\u001b[0m: name 'hot_X' is not defined"
          ]
        }
      ]
    },
    {
      "cell_type": "markdown",
      "source": [
        "Now update your gradient descent and Mean Squared Error function to be able to learn from multiple features. See how low you can get the error after 40 iterations.\n",
        "\n",
        "You may notice a higher error than we got in part 1, especially when compared with an extrememly low closed form error. Think about why this may be the case and what hyperparameters you can tune to improve this."
      ],
      "metadata": {
        "id": "LPj6pbr5ZlWY"
      }
    },
    {
      "cell_type": "code",
      "source": [
        "def grad_des2(X, y, theta):\n",
        "  #Code!\n",
        "  return dt\n",
        "\n",
        "def MSE2(x, y, theta):\n",
        "  #Code!\n",
        "  return error"
      ],
      "metadata": {
        "id": "ER3-CeSzlGZ-"
      },
      "execution_count": null,
      "outputs": []
    },
    {
      "cell_type": "code",
      "source": [
        "lr = #set learning rate\n",
        "\n",
        "theta = np.zeros((len(hot_X[0]), 1))\n",
        "\n",
        "losses = []\n",
        "losses.append(MSE2(hot_X, hot_y, theta))\n",
        "\n",
        "for i in range(40):\n",
        "  losses.append(MSE2(hot_X, hot_y, theta))\n",
        "\n",
        "\n",
        "print(f\"Final Training Loss: {losses[-1]}\")\n",
        "plt.plot(losses)\n",
        "plt.title(\"Multi feature loss over time\")"
      ],
      "metadata": {
        "id": "KA_3W7uIX7wY"
      },
      "execution_count": null,
      "outputs": []
    },
    {
      "cell_type": "code",
      "source": [
        "# Now solve for theta using the closed form and compare your final training loss between\n",
        "# the closed form and regression solution\n",
        "\n",
        "th2 = #find theta using closed form\n",
        "MSE2(hot_X, hot_y, th2)"
      ],
      "metadata": {
        "id": "NAwYox2IlAwR"
      },
      "execution_count": null,
      "outputs": []
    },
    {
      "cell_type": "markdown",
      "source": [
        "As you can (probably) see, the gradient descent error is worse than the single input version and much worse than the closed form solution. Think about why this is and how can improve it (hint: we talked about this technique in our lecture). Copy your code above into the cell below to make any modifications to improve your gradient descent!"
      ],
      "metadata": {
        "id": "ohg09kKbowKh"
      }
    },
    {
      "cell_type": "code",
      "source": [
        "lr = #set learning rate\n",
        "\n",
        "theta = np.zeros((len(hot_X[0]), 1))\n",
        "\n",
        "losses = []\n",
        "losses.append(MSE2(hot_X, hot_y, theta))\n",
        "\n",
        "for i in range(40):\n",
        "  losses.append(MSE2(hot_X, hot_y, theta))\n",
        "\n",
        "\n",
        "print(f\"Final Training Loss: {losses[-1]}\")\n",
        "plt.plot(losses)\n",
        "plt.title(\"Modified multi feature loss over time\")"
      ],
      "metadata": {
        "id": "CRt5qgwwlA3z"
      },
      "execution_count": null,
      "outputs": []
    },
    {
      "cell_type": "markdown",
      "source": [
        "To get checked off for this part, submit screenshots of the following in the submission form:\n",
        "- both of your loss graphs\n",
        "- closed form error\n",
        "- your code for both GD algorithms\n",
        "- an explaination of what you changed and why\n"
      ],
      "metadata": {
        "id": "6xaEPHn-z1mi"
      }
    },
    {
      "cell_type": "markdown",
      "source": [
        "##Part 3: Logistic Regression and K-fold Cross Validation\n",
        "\n",
        "In this part of the lab you will be esimating if someone will suffer a heart attack in the next 10 years based on health statistics. This time, we will be using K-fold cross validation to determine the viability of our model. In lecture, we did not give you the full equation for logistic regression, I suggest deriving it before starting that part of the lab. Try to do it yourself! (The answer should be **simple** - if you are coding a disgusting equation, that is wrong and you should stop.)"
      ],
      "metadata": {
        "id": "24daL8AevMGl"
      }
    },
    {
      "cell_type": "code",
      "source": [
        "HAM_PATH = # Add the path to your health data here\n",
        "health_data = np.loadtxt(HAM_PATH, delimiter=\",\", dtype=str)\n",
        "\n",
        "# But wait! The data is not complete! Take a look to see what is wrong with it\n",
        "# and remove any offending datapoints (rows) - this is the \"cleaning\" stage of\n",
        "# the ML pipeline.\n",
        "# Challange: do this in one line.\n",
        "health_data = # clean health data!"
      ],
      "metadata": {
        "id": "XuXTFje4X-6S"
      },
      "execution_count": null,
      "outputs": []
    },
    {
      "cell_type": "code",
      "source": [
        "# Create your X and Y data and clean it! Binarize the assigned-sex-at-birth\n",
        "# column and add the bias term to your X data\n",
        "\n",
        "health_x = health_data[1:,1:-1]\n",
        "health_y = health_data[1:,-1]\n",
        "\n",
        "#Clean it up!\n",
        "\n",
        "health_x = health_x.astype('double')\n",
        "health_y = health_y.astype('double')"
      ],
      "metadata": {
        "id": "QjoUIp179B6V"
      },
      "execution_count": null,
      "outputs": []
    },
    {
      "cell_type": "code",
      "source": [
        "# Separate your training data into 5 folds for cross validation\n",
        "\n",
        "X_train, X_test, y_train, y_test = train_test_split(health_x, health_y, test_size=0.2, random_state=0)\n",
        "X_train, y_train = shuffle(X_train, y_train)\n",
        "k = 5\n",
        "\n",
        "X_folds = []\n",
        "y_folds = []\n",
        "\n",
        "\n",
        "# A quick check:\n",
        "for fold in range(k):\n",
        "  print(X_folds[fold].shape)\n",
        "  print(y_folds[fold].shape)"
      ],
      "metadata": {
        "id": "c1pPkRN53Mig"
      },
      "execution_count": null,
      "outputs": []
    },
    {
      "cell_type": "code",
      "source": [
        "# Now lets code all of our relevant equations.\n",
        "\n",
        "def sigmoid(x):\n",
        "  pass\n",
        "\n",
        "def accuracy(X, y, theta):\n",
        "  #this is just correct/total\n",
        "  pass\n",
        "\n",
        "def cross_entropy_loss(X, y, theta):\n",
        "    pass\n",
        "\n",
        "def log_grad_desc(X, y_hat, y):\n",
        "  pass"
      ],
      "metadata": {
        "id": "8MLzr9k93sd6"
      },
      "execution_count": null,
      "outputs": []
    },
    {
      "cell_type": "code",
      "source": [
        "# Now lets validate our model. Use the validation error to tune your\n",
        "#hyperparameters. Also, compare your validation and training errors\n",
        "\n",
        "lr = # Set learning rate\n",
        "\n",
        "val_losses = []\n",
        "train_losses = []\n",
        "for fold in range(k):\n",
        "  theta = np.random.randn(health_x.shape[1]) # Reinitialize theta\n",
        "\n",
        "  # Set your validation and training datasets\n",
        "  X_val =\n",
        "  y_val =\n",
        "  X_train =\n",
        "  y_train =\n",
        "  for i in range(5000):\n",
        "    # Do gradient descent\n",
        "    pass\n",
        "  val_losses.append(cross_entropy_loss(X_val, y_val, theta))\n",
        "  train_losses.append(cross_entropy_loss(X_train, y_train, theta))\n",
        "\n",
        "\n",
        "print(f\"train_losses: {sum(train_losses)/len(train_losses)}\")\n",
        "print(f\"val_losses: {sum(val_losses)/len(val_losses)}\")"
      ],
      "metadata": {
        "id": "HgPWsVoy4K8i"
      },
      "execution_count": null,
      "outputs": []
    },
    {
      "cell_type": "code",
      "source": [
        "# Training - once you have tuned your hyperparameters, train your model once\n",
        "# more on all the training data and then test it on the test dataset\n",
        "\n",
        "lr =\n",
        "theta = np.random.randn(car_x.shape[1])\n",
        "\n",
        "for i in range(5000):\n",
        "  #Gradient Descent\n",
        "  pass\n",
        "\n",
        "print(f\"Testing Accuracy: {accuracy(X_test, y_test, theta)}\")"
      ],
      "metadata": {
        "id": "siykWRXC5TOh"
      },
      "execution_count": null,
      "outputs": []
    },
    {
      "cell_type": "markdown",
      "source": [
        "To be checked off for this part, submit screenshots of the following in the submission form: your code for gradient descent and the resulting training, validation, and testing losses."
      ],
      "metadata": {
        "id": "TOVrfwdN51ey"
      }
    },
    {
      "cell_type": "markdown",
      "source": [
        "Once you submit the form, let us know in your team group chats so we can give you checkoff questions!"
      ],
      "metadata": {
        "id": "8khMl0IpY4g4"
      }
    }
  ]
}